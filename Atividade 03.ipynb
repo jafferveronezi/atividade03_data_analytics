{
 "cells": [
  {
   "attachments": {},
   "cell_type": "markdown",
   "id": "ebfbea4e",
   "metadata": {},
   "source": [
    "# Atividade 3\n",
    "\n",
    "Faça tudo via dbt. \n",
    "\n",
    "Envia como resposta:\n",
    "- A query SQL\n",
    "- Comando utilizado via terminal no `dbt`\n",
    "- Um print do resultado no próprio notebook, para isso é necessário criar uma pasta no repositório onde serão armazenadas as imagens, e para inserir no notebook é necessário criar uma célula `markdown` e inserir o seguinte comando: \n",
    "\n",
    "```markdown\n",
    "![Nome da Foto](path/para/imagem)\n",
    "```"
   ]
  },
  {
   "attachments": {},
   "cell_type": "markdown",
   "id": "c0c42967",
   "metadata": {},
   "source": [
    "1. Crie uma tabela `orders_by_year` a partir de `orders` que agrupa a quantidade de pedidos por ano, considerando a coluna `order_approved_at`"
   ]
  },
  {
   "attachments": {},
   "cell_type": "markdown",
   "id": "88dcd1d2",
   "metadata": {},
   "source": [
    " ```sql\n",
    " {{ config(materialized='table') }}\n",
    "\n",
    "\n",
    "   SELECT\n",
    "     EXTRACT(YEAR FROM order_approved_at) AS order_year,\n",
    "     COUNT(DISTINCT order_id) AS orders_count\n",
    "   FROM\n",
    "      `dbt-shop-jaffer.dbt_shop.orders`\n",
    "   WHERE\n",
    "      order_approved_at IS NOT NULL\n",
    "   GROUP BY\n",
    "      1\n",
    "```"
   ]
  },
  {
   "attachments": {},
   "cell_type": "markdown",
   "id": "33f266ef",
   "metadata": {},
   "source": [
    "``` shell\n",
    "(dbt-env) PS C:\\Users\\jaffe\\Desktop\\ADA\\analytics_engineering\\data_analytics_engineering\\dbt\\shop\\models\\example> dbt run --models orders_by_year \n",
    "``` "
   ]
  },
  {
   "attachments": {},
   "cell_type": "markdown",
   "id": "c786d5d7",
   "metadata": {},
   "source": [
    "![Atividade 01](atividade01_00.JPG)"
   ]
  },
  {
   "attachments": {},
   "cell_type": "markdown",
   "id": "aa520524",
   "metadata": {},
   "source": [
    "2. Crie uma `view` que agrega os totais de pedidos por estado. Considere as tabelas _customers_ para obter os estados (coluna _customer_state_) e _orders_ para contabilizar a quantidade de pedidos."
   ]
  },
  {
   "attachments": {},
   "cell_type": "markdown",
   "id": "f9df81f5",
   "metadata": {},
   "source": [
    "```sql\n",
    "{{ config(materialized='table') }}\n",
    "\n",
    "\n",
    "   SELECT\n",
    "      customers.customer_state AS estado,\n",
    "      COUNT(orders.order_id) AS pedidos_total\n",
    "   FROM\n",
    "      `dbt-shop-jaffer.dbt_shop.customers` AS customers\n",
    "   JOIN\n",
    "      `dbt-shop-jaffer.dbt_shop.orders` AS orders\n",
    "   ON\n",
    "      customers.customer_id = orders.customer_id\n",
    "   GROUP BY\n",
    "      customers.customer_state\n",
    "\n",
    "```"
   ]
  },
  {
   "attachments": {},
   "cell_type": "markdown",
   "id": "d0e7204c",
   "metadata": {},
   "source": [
    "```shell\n",
    "(dbt-env) PS C:\\Users\\jaffe\\Desktop\\ADA\\analytics_engineering\\data_analytics_engineering\\dbt\\shop\\models\\example> dbt run --models view_total_pedidos_estados  \n",
    "```"
   ]
  },
  {
   "attachments": {},
   "cell_type": "markdown",
   "id": "87a66bdd",
   "metadata": {},
   "source": [
    "![Atividade 02](atividade_02_00.JPG)"
   ]
  },
  {
   "attachments": {},
   "cell_type": "markdown",
   "id": "54e0e5f1",
   "metadata": {},
   "source": [
    "3. De acordo com o resultado do exercício 2 retorne apenas os estados que tem mais de 5000 pedidos, esse número deve ser passado via variável `number_of_orders` do `dbt`."
   ]
  },
  {
   "attachments": {},
   "cell_type": "markdown",
   "id": "5a0f4fb6",
   "metadata": {},
   "source": [
    "```sql\n",
    "SELECT\n",
    "      estado,\n",
    "      pedidos_total\n",
    "   FROM\n",
    "      `dbt-shop-jaffer.dbt_shop.view_total_pedidos_estados`\n",
    "   WHERE\n",
    "      pedidos_total > {{var('number_of_orders')}}\n",
    "\n",
    "```"
   ]
  },
  {
   "attachments": {},
   "cell_type": "markdown",
   "id": "1355f50f",
   "metadata": {},
   "source": [
    "```shell\n",
    "(dbt-env) PS C:\\Users\\jaffe\\Desktop\\ADA\\analytics_engineering\\data_analytics_engineering\\dbt\\shop\\models\\example> \n",
    ">> dbt run --models view_total_pedidos_estados _retorno_5000 --vars \"{number_of_orders': '5000'}\"\n",
    "\n",
    "```"
   ]
  },
  {
   "attachments": {},
   "cell_type": "markdown",
   "id": "91e48106",
   "metadata": {},
   "source": [
    "![Atividade 03](atividade_03_00.JPG)"
   ]
  },
  {
   "attachments": {},
   "cell_type": "markdown",
   "id": "9c3ad0cc",
   "metadata": {},
   "source": [
    "4. Crie uma `view` chamada `customers_by_region` que utiliza os dados da tabela `customers`. A visão deve realizar uma agregação por região do Brasil (Norte, Nordeste, Sudeste, Centro Oeste e Sul) e contar o número de clientes em cada uma delas."
   ]
  },
  {
   "attachments": {},
   "cell_type": "markdown",
   "id": "5b3d39d2",
   "metadata": {},
   "source": [
    "```sql\n",
    "SELECT\n",
    "    CASE\n",
    "      WHEN customer_state IN ('AM', 'RR', 'AP', 'PA', 'TO', 'RO', 'AC') THEN 'Norte'\n",
    "      WHEN customer_state IN ('MA', 'PI', 'CE', 'RN', 'PB', 'PE', 'AL', 'SE', 'BA') THEN 'Nordeste'\n",
    "      WHEN customer_state IN ('SP', 'RJ', 'ES', 'MG') THEN 'Sudeste'\n",
    "      WHEN customer_state IN ('MT', 'MS', 'GO', 'DF') THEN 'Centro Oeste'\n",
    "      WHEN customer_state IN ('PR', 'RS', 'SC') THEN 'Sul'\n",
    "    END AS regiao,\n",
    "    COUNT(*) AS clientes_total\n",
    "   FROM\n",
    "      `dbt-shop-jaffer.dbt_shop.customers`\n",
    "   GROUP BY\n",
    "      regiao\n",
    "\n",
    "```"
   ]
  },
  {
   "attachments": {},
   "cell_type": "markdown",
   "id": "15a06a1c",
   "metadata": {},
   "source": [
    "```shell\n",
    "(dbt-env) PS C:\\Users\\jaffe\\Desktop\\ADA\\analytics_engineering\\data_analytics_engineering\\dbt\\shop\\models\\example> dbt run --models customers_por_regiao\n",
    "```"
   ]
  },
  {
   "attachments": {},
   "cell_type": "markdown",
   "id": "98e57064",
   "metadata": {},
   "source": [
    "![Atividade 04](atividade_04_00.JPG)"
   ]
  },
  {
   "attachments": {},
   "cell_type": "markdown",
   "id": "d4c16290",
   "metadata": {},
   "source": [
    "5. Crie uma tabela `items_costs` que contenha o preço total de um item (soma do valor do produto com o frete)."
   ]
  },
  {
   "attachments": {},
   "cell_type": "markdown",
   "id": "48afcd16",
   "metadata": {},
   "source": [
    "```sql\n",
    "{{ config(materialized='table') }}\n",
    "\n",
    "\n",
    "   SELECT\n",
    "      *,\n",
    "      (price + freight_value) AS cost_items\n",
    "   FROM\n",
    "      `dbt-shop-jaffer.dbt_shop.items`\n",
    "\n",
    "```"
   ]
  },
  {
   "attachments": {},
   "cell_type": "markdown",
   "id": "0ee6c22d",
   "metadata": {},
   "source": [
    "```shell\n",
    "(dbt-env) PS C:\\Users\\jaffe\\Desktop\\ADA\\analytics_engineering\\data_analytics_engineering\\dbt\\shop\\models\\example> dbt run --models items_costs\n",
    "```"
   ]
  },
  {
   "attachments": {},
   "cell_type": "markdown",
   "id": "37a7954b",
   "metadata": {},
   "source": [
    "![Atividade 05](atividade_05_00.JPG)"
   ]
  },
  {
   "attachments": {},
   "cell_type": "markdown",
   "id": "08cc4c02",
   "metadata": {},
   "source": [
    "6. Crie uma `view` com o nome `orders_shipped_costs`, você deve calcular o preço total do pedido somado com o frete, apenas para pedidos enviado (shipped)."
   ]
  },
  {
   "attachments": {},
   "cell_type": "markdown",
   "id": "c30fb868",
   "metadata": {},
   "source": [
    "```sql\n",
    "{{ config(materialized='table') }}\n",
    "\n",
    "   SELECT\n",
    "      cost.order_id,\n",
    "      order_status,\n",
    "      (price + freight_value) AS cost_items\n",
    "   FROM\n",
    "      `dbt-shop-jaffer.dbt_shop.items_costs` cost\n",
    "   JOIN\n",
    "      `dbt-shop-jaffer.dbt_shop.orders` o on cost.order_id = o.order_id\n",
    "   WHERE\n",
    "      order_status like \"shipped\"\n",
    "\n",
    "```"
   ]
  },
  {
   "attachments": {},
   "cell_type": "markdown",
   "id": "a96f82d9",
   "metadata": {},
   "source": [
    "```shell\n",
    "(dbt-env) PS C:\\Users\\jaffe\\Desktop\\ADA\\analytics_engineering\\data_analytics_engineering\\dbt\\shop\\models\\example> dbt run --models items_costsdbt run --models orders_shipped_costs\n",
    "```"
   ]
  },
  {
   "attachments": {},
   "cell_type": "markdown",
   "id": "b2ce57f8",
   "metadata": {},
   "source": [
    "![Atividade 06](atividade_06_00.JPG)"
   ]
  }
 ],
 "metadata": {
  "kernelspec": {
   "display_name": "Python 3",
   "language": "python",
   "name": "python3"
  },
  "language_info": {
   "codemirror_mode": {
    "name": "ipython",
    "version": 3
   },
   "file_extension": ".py",
   "mimetype": "text/x-python",
   "name": "python",
   "nbconvert_exporter": "python",
   "pygments_lexer": "ipython3",
   "version": "3.9.1"
  }
 },
 "nbformat": 4,
 "nbformat_minor": 5
}
